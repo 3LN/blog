{
 "cells": [
  {
   "cell_type": "markdown",
   "metadata": {},
   "source": [
    "# Importing with Pandas"
   ]
  },
  {
   "cell_type": "markdown",
   "metadata": {},
   "source": [
    "Explanations at: http://3leafnodes.com/random-forest-regression-algorithms-preparing-data"
   ]
  },
  {
   "cell_type": "markdown",
   "metadata": {},
   "source": [
    "## From a CSV file "
   ]
  },
  {
   "cell_type": "code",
   "execution_count": 1,
   "metadata": {
    "collapsed": true
   },
   "outputs": [],
   "source": [
    "import pandas as pd\n",
    "import numpy as np\n",
    "\n",
    "import matplotlib.pyplot as plt\n",
    "%matplotlib notebook\n",
    "plt.style.use('seaborn-white')\n",
    "\n",
    "from plotly import tools\n",
    "import plotly.plotly as py\n",
    "import plotly.graph_objs as go"
   ]
  },
  {
   "cell_type": "code",
   "execution_count": 3,
   "metadata": {},
   "outputs": [],
   "source": [
    "RY_df = pd.read_csv('data/RY.csv', index_col=0)"
   ]
  },
  {
   "cell_type": "markdown",
   "metadata": {},
   "source": [
    "## With pandas_datareader"
   ]
  },
  {
   "cell_type": "code",
   "execution_count": 4,
   "metadata": {
    "collapsed": true
   },
   "outputs": [],
   "source": [
    "import pandas_datareader.data as web\n",
    "\n",
    "from datetime import datetime\n",
    "RY_dfpdr = web.DataReader(\"ry\", 'yahoo',\n",
    "                    datetime(1995, 10, 16),\n",
    "                    datetime(2017, 8, 11))"
   ]
  },
  {
   "cell_type": "code",
   "execution_count": 5,
   "metadata": {},
   "outputs": [
    {
     "name": "stdout",
     "output_type": "stream",
     "text": [
      "<class 'pandas.core.frame.DataFrame'>\n",
      "DatetimeIndex: 5495 entries, 1995-10-16 to 2017-08-11\n",
      "Data columns (total 6 columns):\n",
      "Open         5495 non-null float64\n",
      "High         5495 non-null float64\n",
      "Low          5495 non-null float64\n",
      "Close        5495 non-null float64\n",
      "Adj Close    5495 non-null float64\n",
      "Volume       5495 non-null int64\n",
      "dtypes: float64(5), int64(1)\n",
      "memory usage: 300.5 KB\n"
     ]
    }
   ],
   "source": [
    "RY_dfpdr.info()"
   ]
  },
  {
   "cell_type": "markdown",
   "metadata": {},
   "source": [
    "# Exploring the Data"
   ]
  },
  {
   "cell_type": "code",
   "execution_count": 6,
   "metadata": {},
   "outputs": [
    {
     "data": {
      "text/html": [
       "<div>\n",
       "<style>\n",
       "    .dataframe thead tr:only-child th {\n",
       "        text-align: right;\n",
       "    }\n",
       "\n",
       "    .dataframe thead th {\n",
       "        text-align: left;\n",
       "    }\n",
       "\n",
       "    .dataframe tbody tr th {\n",
       "        vertical-align: top;\n",
       "    }\n",
       "</style>\n",
       "<table border=\"1\" class=\"dataframe\">\n",
       "  <thead>\n",
       "    <tr style=\"text-align: right;\">\n",
       "      <th></th>\n",
       "      <th>Open</th>\n",
       "      <th>High</th>\n",
       "      <th>Low</th>\n",
       "      <th>Close</th>\n",
       "      <th>Adj Close</th>\n",
       "      <th>Volume</th>\n",
       "    </tr>\n",
       "    <tr>\n",
       "      <th>Date</th>\n",
       "      <th></th>\n",
       "      <th></th>\n",
       "      <th></th>\n",
       "      <th></th>\n",
       "      <th></th>\n",
       "      <th></th>\n",
       "    </tr>\n",
       "  </thead>\n",
       "  <tbody>\n",
       "    <tr>\n",
       "      <th>16/10/95</th>\n",
       "      <td>5.75000</td>\n",
       "      <td>5.81250</td>\n",
       "      <td>5.75000</td>\n",
       "      <td>5.81250</td>\n",
       "      <td>2.498525</td>\n",
       "      <td>62000</td>\n",
       "    </tr>\n",
       "    <tr>\n",
       "      <th>17/10/95</th>\n",
       "      <td>5.81250</td>\n",
       "      <td>5.81250</td>\n",
       "      <td>5.81250</td>\n",
       "      <td>5.81250</td>\n",
       "      <td>2.498525</td>\n",
       "      <td>53200</td>\n",
       "    </tr>\n",
       "    <tr>\n",
       "      <th>18/10/95</th>\n",
       "      <td>5.78125</td>\n",
       "      <td>5.84375</td>\n",
       "      <td>5.78125</td>\n",
       "      <td>5.81250</td>\n",
       "      <td>2.498525</td>\n",
       "      <td>72000</td>\n",
       "    </tr>\n",
       "    <tr>\n",
       "      <th>19/10/95</th>\n",
       "      <td>5.84375</td>\n",
       "      <td>5.84375</td>\n",
       "      <td>5.81250</td>\n",
       "      <td>5.81250</td>\n",
       "      <td>2.498525</td>\n",
       "      <td>5200</td>\n",
       "    </tr>\n",
       "    <tr>\n",
       "      <th>20/10/95</th>\n",
       "      <td>5.71875</td>\n",
       "      <td>5.71875</td>\n",
       "      <td>5.65625</td>\n",
       "      <td>5.65625</td>\n",
       "      <td>2.431361</td>\n",
       "      <td>16400</td>\n",
       "    </tr>\n",
       "  </tbody>\n",
       "</table>\n",
       "</div>"
      ],
      "text/plain": [
       "             Open     High      Low    Close  Adj Close  Volume\n",
       "Date                                                           \n",
       "16/10/95  5.75000  5.81250  5.75000  5.81250   2.498525   62000\n",
       "17/10/95  5.81250  5.81250  5.81250  5.81250   2.498525   53200\n",
       "18/10/95  5.78125  5.84375  5.78125  5.81250   2.498525   72000\n",
       "19/10/95  5.84375  5.84375  5.81250  5.81250   2.498525    5200\n",
       "20/10/95  5.71875  5.71875  5.65625  5.65625   2.431361   16400"
      ]
     },
     "execution_count": 6,
     "metadata": {},
     "output_type": "execute_result"
    }
   ],
   "source": [
    "RY_df.head()"
   ]
  },
  {
   "cell_type": "code",
   "execution_count": 7,
   "metadata": {},
   "outputs": [
    {
     "data": {
      "text/html": [
       "<div>\n",
       "<style>\n",
       "    .dataframe thead tr:only-child th {\n",
       "        text-align: right;\n",
       "    }\n",
       "\n",
       "    .dataframe thead th {\n",
       "        text-align: left;\n",
       "    }\n",
       "\n",
       "    .dataframe tbody tr th {\n",
       "        vertical-align: top;\n",
       "    }\n",
       "</style>\n",
       "<table border=\"1\" class=\"dataframe\">\n",
       "  <thead>\n",
       "    <tr style=\"text-align: right;\">\n",
       "      <th></th>\n",
       "      <th>Open</th>\n",
       "      <th>High</th>\n",
       "      <th>Low</th>\n",
       "      <th>Close</th>\n",
       "      <th>Adj Close</th>\n",
       "      <th>Volume</th>\n",
       "    </tr>\n",
       "    <tr>\n",
       "      <th>Date</th>\n",
       "      <th></th>\n",
       "      <th></th>\n",
       "      <th></th>\n",
       "      <th></th>\n",
       "      <th></th>\n",
       "      <th></th>\n",
       "    </tr>\n",
       "  </thead>\n",
       "  <tbody>\n",
       "    <tr>\n",
       "      <th>07/08/17</th>\n",
       "      <td>74.709999</td>\n",
       "      <td>74.849998</td>\n",
       "      <td>74.410004</td>\n",
       "      <td>74.510002</td>\n",
       "      <td>74.510002</td>\n",
       "      <td>415100</td>\n",
       "    </tr>\n",
       "    <tr>\n",
       "      <th>08/08/17</th>\n",
       "      <td>74.379997</td>\n",
       "      <td>74.870003</td>\n",
       "      <td>74.379997</td>\n",
       "      <td>74.739998</td>\n",
       "      <td>74.739998</td>\n",
       "      <td>738300</td>\n",
       "    </tr>\n",
       "    <tr>\n",
       "      <th>09/08/17</th>\n",
       "      <td>74.339996</td>\n",
       "      <td>74.559998</td>\n",
       "      <td>74.000000</td>\n",
       "      <td>74.230003</td>\n",
       "      <td>74.230003</td>\n",
       "      <td>684000</td>\n",
       "    </tr>\n",
       "    <tr>\n",
       "      <th>10/08/17</th>\n",
       "      <td>73.910004</td>\n",
       "      <td>74.110001</td>\n",
       "      <td>72.750000</td>\n",
       "      <td>72.889999</td>\n",
       "      <td>72.889999</td>\n",
       "      <td>1434400</td>\n",
       "    </tr>\n",
       "    <tr>\n",
       "      <th>11/08/17</th>\n",
       "      <td>73.059998</td>\n",
       "      <td>73.410004</td>\n",
       "      <td>72.610001</td>\n",
       "      <td>72.889999</td>\n",
       "      <td>72.889999</td>\n",
       "      <td>754200</td>\n",
       "    </tr>\n",
       "  </tbody>\n",
       "</table>\n",
       "</div>"
      ],
      "text/plain": [
       "               Open       High        Low      Close  Adj Close   Volume\n",
       "Date                                                                    \n",
       "07/08/17  74.709999  74.849998  74.410004  74.510002  74.510002   415100\n",
       "08/08/17  74.379997  74.870003  74.379997  74.739998  74.739998   738300\n",
       "09/08/17  74.339996  74.559998  74.000000  74.230003  74.230003   684000\n",
       "10/08/17  73.910004  74.110001  72.750000  72.889999  72.889999  1434400\n",
       "11/08/17  73.059998  73.410004  72.610001  72.889999  72.889999   754200"
      ]
     },
     "execution_count": 7,
     "metadata": {},
     "output_type": "execute_result"
    }
   ],
   "source": [
    "RY_df.tail()"
   ]
  },
  {
   "cell_type": "code",
   "execution_count": 8,
   "metadata": {},
   "outputs": [
    {
     "data": {
      "text/html": [
       "<div>\n",
       "<style>\n",
       "    .dataframe thead tr:only-child th {\n",
       "        text-align: right;\n",
       "    }\n",
       "\n",
       "    .dataframe thead th {\n",
       "        text-align: left;\n",
       "    }\n",
       "\n",
       "    .dataframe tbody tr th {\n",
       "        vertical-align: top;\n",
       "    }\n",
       "</style>\n",
       "<table border=\"1\" class=\"dataframe\">\n",
       "  <thead>\n",
       "    <tr style=\"text-align: right;\">\n",
       "      <th></th>\n",
       "      <th>Open</th>\n",
       "      <th>High</th>\n",
       "      <th>Low</th>\n",
       "      <th>Close</th>\n",
       "      <th>Adj Close</th>\n",
       "      <th>Volume</th>\n",
       "    </tr>\n",
       "  </thead>\n",
       "  <tbody>\n",
       "    <tr>\n",
       "      <th>count</th>\n",
       "      <td>5494.00000</td>\n",
       "      <td>5494.00000</td>\n",
       "      <td>5494.00000</td>\n",
       "      <td>5494.00000</td>\n",
       "      <td>5494.00000</td>\n",
       "      <td>5494.00000</td>\n",
       "    </tr>\n",
       "    <tr>\n",
       "      <th>mean</th>\n",
       "      <td>36.81800</td>\n",
       "      <td>37.12529</td>\n",
       "      <td>36.50281</td>\n",
       "      <td>36.83127</td>\n",
       "      <td>27.95704</td>\n",
       "      <td>524808.90062</td>\n",
       "    </tr>\n",
       "    <tr>\n",
       "      <th>std</th>\n",
       "      <td>21.24614</td>\n",
       "      <td>21.38186</td>\n",
       "      <td>21.09694</td>\n",
       "      <td>21.24431</td>\n",
       "      <td>20.60131</td>\n",
       "      <td>633388.75713</td>\n",
       "    </tr>\n",
       "    <tr>\n",
       "      <th>min</th>\n",
       "      <td>5.12500</td>\n",
       "      <td>5.28125</td>\n",
       "      <td>5.12500</td>\n",
       "      <td>5.18750</td>\n",
       "      <td>2.22987</td>\n",
       "      <td>0.00000</td>\n",
       "    </tr>\n",
       "    <tr>\n",
       "      <th>25%</th>\n",
       "      <td>15.36328</td>\n",
       "      <td>15.50766</td>\n",
       "      <td>15.25000</td>\n",
       "      <td>15.39297</td>\n",
       "      <td>8.03175</td>\n",
       "      <td>97200.00000</td>\n",
       "    </tr>\n",
       "    <tr>\n",
       "      <th>50%</th>\n",
       "      <td>39.25750</td>\n",
       "      <td>39.72750</td>\n",
       "      <td>38.92500</td>\n",
       "      <td>39.29000</td>\n",
       "      <td>26.19961</td>\n",
       "      <td>265700.00000</td>\n",
       "    </tr>\n",
       "    <tr>\n",
       "      <th>75%</th>\n",
       "      <td>55.75500</td>\n",
       "      <td>56.10750</td>\n",
       "      <td>55.21750</td>\n",
       "      <td>55.59750</td>\n",
       "      <td>44.76020</td>\n",
       "      <td>778425.00000</td>\n",
       "    </tr>\n",
       "    <tr>\n",
       "      <th>max</th>\n",
       "      <td>76.08000</td>\n",
       "      <td>76.08000</td>\n",
       "      <td>75.42000</td>\n",
       "      <td>75.90000</td>\n",
       "      <td>75.10000</td>\n",
       "      <td>9830200.00000</td>\n",
       "    </tr>\n",
       "  </tbody>\n",
       "</table>\n",
       "</div>"
      ],
      "text/plain": [
       "            Open       High        Low      Close  Adj Close        Volume\n",
       "count 5494.00000 5494.00000 5494.00000 5494.00000 5494.00000    5494.00000\n",
       "mean    36.81800   37.12529   36.50281   36.83127   27.95704  524808.90062\n",
       "std     21.24614   21.38186   21.09694   21.24431   20.60131  633388.75713\n",
       "min      5.12500    5.28125    5.12500    5.18750    2.22987       0.00000\n",
       "25%     15.36328   15.50766   15.25000   15.39297    8.03175   97200.00000\n",
       "50%     39.25750   39.72750   38.92500   39.29000   26.19961  265700.00000\n",
       "75%     55.75500   56.10750   55.21750   55.59750   44.76020  778425.00000\n",
       "max     76.08000   76.08000   75.42000   75.90000   75.10000 9830200.00000"
      ]
     },
     "execution_count": 8,
     "metadata": {},
     "output_type": "execute_result"
    }
   ],
   "source": [
    "# suppressing scientific notation for Pandas\n",
    "pd.set_option('display.float_format', lambda x: '%.5f' % x)\n",
    "\n",
    "RY_df.describe()"
   ]
  },
  {
   "cell_type": "code",
   "execution_count": 9,
   "metadata": {},
   "outputs": [
    {
     "name": "stdout",
     "output_type": "stream",
     "text": [
      "<class 'pandas.core.frame.DataFrame'>\n",
      "Index: 5494 entries, 16/10/95 to 11/08/17\n",
      "Data columns (total 6 columns):\n",
      "Open         5494 non-null float64\n",
      "High         5494 non-null float64\n",
      "Low          5494 non-null float64\n",
      "Close        5494 non-null float64\n",
      "Adj Close    5494 non-null float64\n",
      "Volume       5494 non-null int64\n",
      "dtypes: float64(5), int64(1)\n",
      "memory usage: 300.5+ KB\n"
     ]
    }
   ],
   "source": [
    "RY_df.info()"
   ]
  },
  {
   "cell_type": "code",
   "execution_count": 10,
   "metadata": {},
   "outputs": [
    {
     "data": {
      "text/plain": [
       "(5494, 6)"
      ]
     },
     "execution_count": 10,
     "metadata": {},
     "output_type": "execute_result"
    }
   ],
   "source": [
    "RY_df.shape"
   ]
  },
  {
   "cell_type": "code",
   "execution_count": 11,
   "metadata": {},
   "outputs": [
    {
     "data": {
      "text/plain": [
       "Index(['16/10/95', '17/10/95', '18/10/95', '19/10/95', '20/10/95', '23/10/95',\n",
       "       '24/10/95', '25/10/95', '26/10/95', '27/10/95',\n",
       "       ...\n",
       "       '31/07/17', '01/08/17', '02/08/17', '03/08/17', '04/08/17', '07/08/17',\n",
       "       '08/08/17', '09/08/17', '10/08/17', '11/08/17'],\n",
       "      dtype='object', name='Date', length=5494)"
      ]
     },
     "execution_count": 11,
     "metadata": {},
     "output_type": "execute_result"
    }
   ],
   "source": [
    "RY_df.index"
   ]
  },
  {
   "cell_type": "markdown",
   "metadata": {},
   "source": [
    "# Preprocessing"
   ]
  },
  {
   "cell_type": "code",
   "execution_count": 12,
   "metadata": {
    "collapsed": true
   },
   "outputs": [],
   "source": [
    "def convert_index_to_datetimeindex(df):\n",
    "    # converting the dates to DateTimeIndex\n",
    "    index = df.index\n",
    "    df.index = pd.to_datetime(index, dayfirst=True)"
   ]
  },
  {
   "cell_type": "code",
   "execution_count": 13,
   "metadata": {
    "collapsed": true
   },
   "outputs": [],
   "source": [
    "convert_index_to_datetimeindex(RY_df)"
   ]
  },
  {
   "cell_type": "code",
   "execution_count": 14,
   "metadata": {},
   "outputs": [
    {
     "data": {
      "text/plain": [
       "DatetimeIndex(['1995-10-16', '1995-10-17', '1995-10-18', '1995-10-19',\n",
       "               '1995-10-20', '1995-10-23', '1995-10-24', '1995-10-25',\n",
       "               '1995-10-26', '1995-10-27',\n",
       "               ...\n",
       "               '2017-07-31', '2017-08-01', '2017-08-02', '2017-08-03',\n",
       "               '2017-08-04', '2017-08-07', '2017-08-08', '2017-08-09',\n",
       "               '2017-08-10', '2017-08-11'],\n",
       "              dtype='datetime64[ns]', name='Date', length=5494, freq=None)"
      ]
     },
     "execution_count": 14,
     "metadata": {},
     "output_type": "execute_result"
    }
   ],
   "source": [
    "RY_df.index"
   ]
  },
  {
   "cell_type": "code",
   "execution_count": 15,
   "metadata": {
    "collapsed": true
   },
   "outputs": [],
   "source": [
    "from datetime import timedelta, datetime, date\n",
    "\n",
    "def convert_date_to_time_elapsed(df):\n",
    "    dates = df.index\n",
    "\n",
    "    elapsed = dates - dates[0]\n",
    "    df['Days Elapsed'] = elapsed.days\n",
    "\n",
    "convert_date_to_time_elapsed(RY_df)"
   ]
  },
  {
   "cell_type": "code",
   "execution_count": 16,
   "metadata": {},
   "outputs": [
    {
     "data": {
      "text/html": [
       "<div>\n",
       "<style>\n",
       "    .dataframe thead tr:only-child th {\n",
       "        text-align: right;\n",
       "    }\n",
       "\n",
       "    .dataframe thead th {\n",
       "        text-align: left;\n",
       "    }\n",
       "\n",
       "    .dataframe tbody tr th {\n",
       "        vertical-align: top;\n",
       "    }\n",
       "</style>\n",
       "<table border=\"1\" class=\"dataframe\">\n",
       "  <thead>\n",
       "    <tr style=\"text-align: right;\">\n",
       "      <th></th>\n",
       "      <th>Open</th>\n",
       "      <th>High</th>\n",
       "      <th>Low</th>\n",
       "      <th>Close</th>\n",
       "      <th>Adj Close</th>\n",
       "      <th>Volume</th>\n",
       "      <th>Days Elapsed</th>\n",
       "    </tr>\n",
       "    <tr>\n",
       "      <th>Date</th>\n",
       "      <th></th>\n",
       "      <th></th>\n",
       "      <th></th>\n",
       "      <th></th>\n",
       "      <th></th>\n",
       "      <th></th>\n",
       "      <th></th>\n",
       "    </tr>\n",
       "  </thead>\n",
       "  <tbody>\n",
       "    <tr>\n",
       "      <th>1995-10-16</th>\n",
       "      <td>5.75000</td>\n",
       "      <td>5.81250</td>\n",
       "      <td>5.75000</td>\n",
       "      <td>5.81250</td>\n",
       "      <td>2.49852</td>\n",
       "      <td>62000</td>\n",
       "      <td>0</td>\n",
       "    </tr>\n",
       "    <tr>\n",
       "      <th>1995-10-17</th>\n",
       "      <td>5.81250</td>\n",
       "      <td>5.81250</td>\n",
       "      <td>5.81250</td>\n",
       "      <td>5.81250</td>\n",
       "      <td>2.49852</td>\n",
       "      <td>53200</td>\n",
       "      <td>1</td>\n",
       "    </tr>\n",
       "    <tr>\n",
       "      <th>1995-10-18</th>\n",
       "      <td>5.78125</td>\n",
       "      <td>5.84375</td>\n",
       "      <td>5.78125</td>\n",
       "      <td>5.81250</td>\n",
       "      <td>2.49852</td>\n",
       "      <td>72000</td>\n",
       "      <td>2</td>\n",
       "    </tr>\n",
       "    <tr>\n",
       "      <th>1995-10-19</th>\n",
       "      <td>5.84375</td>\n",
       "      <td>5.84375</td>\n",
       "      <td>5.81250</td>\n",
       "      <td>5.81250</td>\n",
       "      <td>2.49852</td>\n",
       "      <td>5200</td>\n",
       "      <td>3</td>\n",
       "    </tr>\n",
       "    <tr>\n",
       "      <th>1995-10-20</th>\n",
       "      <td>5.71875</td>\n",
       "      <td>5.71875</td>\n",
       "      <td>5.65625</td>\n",
       "      <td>5.65625</td>\n",
       "      <td>2.43136</td>\n",
       "      <td>16400</td>\n",
       "      <td>4</td>\n",
       "    </tr>\n",
       "  </tbody>\n",
       "</table>\n",
       "</div>"
      ],
      "text/plain": [
       "              Open    High     Low   Close  Adj Close  Volume  Days Elapsed\n",
       "Date                                                                       \n",
       "1995-10-16 5.75000 5.81250 5.75000 5.81250    2.49852   62000             0\n",
       "1995-10-17 5.81250 5.81250 5.81250 5.81250    2.49852   53200             1\n",
       "1995-10-18 5.78125 5.84375 5.78125 5.81250    2.49852   72000             2\n",
       "1995-10-19 5.84375 5.84375 5.81250 5.81250    2.49852    5200             3\n",
       "1995-10-20 5.71875 5.71875 5.65625 5.65625    2.43136   16400             4"
      ]
     },
     "execution_count": 16,
     "metadata": {},
     "output_type": "execute_result"
    }
   ],
   "source": [
    "RY_df.head()"
   ]
  }
 ],
 "metadata": {
  "kernelspec": {
   "display_name": "Python 3",
   "language": "python",
   "name": "python3"
  },
  "language_info": {
   "codemirror_mode": {
    "name": "ipython",
    "version": 3
   },
   "file_extension": ".py",
   "mimetype": "text/x-python",
   "name": "python",
   "nbconvert_exporter": "python",
   "pygments_lexer": "ipython3",
   "version": "3.6.1"
  }
 },
 "nbformat": 4,
 "nbformat_minor": 2
}
