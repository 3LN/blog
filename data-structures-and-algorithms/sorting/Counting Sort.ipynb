{
 "cells": [
  {
   "cell_type": "code",
   "execution_count": 66,
   "metadata": {},
   "outputs": [],
   "source": [
    "def counting_sort(arr):\n",
    "    \n",
    "    # count array assuming values from 0-9\n",
    "    count_arr = [0] * (9+1)\n",
    "    \n",
    "    # count all the occurrences of each value in the input array\n",
    "    for num in arr:\n",
    "        count_arr[num] += 1 \n",
    "    \n",
    "    # add all the counts from the previous box to the current box\n",
    "    \n",
    "    for i in range(1, len(count_arr)):\n",
    "        count_arr[i] = count_arr[i] + count_arr[i-1]\n",
    "        \n",
    "    # walk through the original array\n",
    "    # check for the number index in count_arr, \n",
    "    # put that number in the new array at that index\n",
    "    sorted_arr = [None] * (len(arr)+1)\n",
    "    \n",
    "    for num in arr:\n",
    "        sorted_arr[count_arr[num]] = num\n",
    "        count_arr[num] -= 1\n",
    "        \n",
    "    return sorted_arr[1:]"
   ]
  },
  {
   "cell_type": "code",
   "execution_count": 69,
   "metadata": {
    "collapsed": true
   },
   "outputs": [],
   "source": [
    "arr = [1,9,1,8,3,5,2]"
   ]
  },
  {
   "cell_type": "code",
   "execution_count": 70,
   "metadata": {},
   "outputs": [
    {
     "data": {
      "text/plain": [
       "[1, 1, 2, 3, 5, 8, 9]"
      ]
     },
     "execution_count": 70,
     "metadata": {},
     "output_type": "execute_result"
    }
   ],
   "source": [
    "counting_sort(arr)"
   ]
  },
  {
   "cell_type": "code",
   "execution_count": null,
   "metadata": {
    "collapsed": true
   },
   "outputs": [],
   "source": []
  }
 ],
 "metadata": {
  "kernelspec": {
   "display_name": "Python 3",
   "language": "python",
   "name": "python3"
  },
  "language_info": {
   "codemirror_mode": {
    "name": "ipython",
    "version": 3
   },
   "file_extension": ".py",
   "mimetype": "text/x-python",
   "name": "python",
   "nbconvert_exporter": "python",
   "pygments_lexer": "ipython3",
   "version": "3.6.1"
  }
 },
 "nbformat": 4,
 "nbformat_minor": 2
}
