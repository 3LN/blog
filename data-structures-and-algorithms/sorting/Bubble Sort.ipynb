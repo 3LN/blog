{
 "cells": [
  {
   "cell_type": "code",
   "execution_count": 9,
   "metadata": {
    "collapsed": true
   },
   "outputs": [],
   "source": [
    "def bubble_sort(arr):\n",
    "    \n",
    "    \n",
    "    \n",
    "    for i in range(0, len(arr)-1):\n",
    "        \n",
    "        done = True\n",
    "        \n",
    "        for j in range(0, len(arr)-1):\n",
    "            print(arr)\n",
    "            if arr[j] > arr[j+1]:\n",
    "                arr[j], arr[j+1] = arr[j+1], arr[j]\n",
    "                done = False\n",
    "        \n",
    "        if done: return\n",
    "                \n",
    "    \n",
    "    return arr"
   ]
  },
  {
   "cell_type": "code",
   "execution_count": 10,
   "metadata": {},
   "outputs": [
    {
     "name": "stdout",
     "output_type": "stream",
     "text": [
      "[10, 3, 5, 12, 9, 20]\n",
      "[3, 10, 5, 12, 9, 20]\n",
      "[3, 5, 10, 12, 9, 20]\n",
      "[3, 5, 10, 12, 9, 20]\n",
      "[3, 5, 10, 9, 12, 20]\n",
      "[3, 5, 10, 9, 12, 20]\n",
      "[3, 5, 10, 9, 12, 20]\n",
      "[3, 5, 10, 9, 12, 20]\n",
      "[3, 5, 9, 10, 12, 20]\n",
      "[3, 5, 9, 10, 12, 20]\n",
      "[3, 5, 9, 10, 12, 20]\n",
      "[3, 5, 9, 10, 12, 20]\n",
      "[3, 5, 9, 10, 12, 20]\n",
      "[3, 5, 9, 10, 12, 20]\n",
      "[3, 5, 9, 10, 12, 20]\n"
     ]
    }
   ],
   "source": [
    "arr = [10, 3, 5, 12, 9, 20]\n",
    "bubble_sort(arr)"
   ]
  },
  {
   "cell_type": "code",
   "execution_count": null,
   "metadata": {
    "collapsed": true
   },
   "outputs": [],
   "source": []
  }
 ],
 "metadata": {
  "kernelspec": {
   "display_name": "Python 3",
   "language": "python",
   "name": "python3"
  },
  "language_info": {
   "codemirror_mode": {
    "name": "ipython",
    "version": 3
   },
   "file_extension": ".py",
   "mimetype": "text/x-python",
   "name": "python",
   "nbconvert_exporter": "python",
   "pygments_lexer": "ipython3",
   "version": "3.6.1"
  }
 },
 "nbformat": 4,
 "nbformat_minor": 2
}
