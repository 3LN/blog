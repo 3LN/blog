{
 "cells": [
  {
   "cell_type": "code",
   "execution_count": 1,
   "metadata": {
    "collapsed": true
   },
   "outputs": [],
   "source": [
    "class Merge_Sort(object):\n",
    "        \n",
    "    def __init__(self, arr):\n",
    "        #self.arr = arr\n",
    "        self.run_merge_sort()\n",
    "        \n",
    "    def split(self):\n",
    "        for index, num in enumerate(arr):\n",
    "            arr[index] = [arr[index]]\n",
    "    \n",
    "    def merge(self, arr1, arr2):\n",
    "        temp = []\n",
    "\n",
    "        pointer1 = 0 \n",
    "        pointer2 = 0 \n",
    "\n",
    "        while pointer1<len(arr1) and pointer2<len(arr2):\n",
    "\n",
    "            if arr1[pointer1] < arr2[pointer2]:\n",
    "                temp.append(arr1[pointer1])\n",
    "                pointer1 = pointer1 + 1\n",
    "            else:\n",
    "                temp.append(arr2[pointer2])\n",
    "                pointer2 = pointer2 + 1\n",
    "\n",
    "        if pointer1<len(arr1):\n",
    "            for item in arr1[pointer1:]: temp.append(item)\n",
    "        elif pointer2<len(arr2):\n",
    "            for item in arr2[pointer2:]: temp.append(item)\n",
    "\n",
    "        return temp\n",
    "\n",
    "    def merge_helper(self, arr):\n",
    "        pointer = 0\n",
    "        len_arr = len(arr)//2\n",
    "\n",
    "        for index in range(0, len_arr):\n",
    "            arr[pointer] =  self.merge(arr[pointer], arr[pointer+1])\n",
    "            del arr[pointer+1]\n",
    "            pointer = pointer + 1\n",
    "        \n",
    "    def run_merge_sort(self):\n",
    "        self.split()\n",
    "        \n",
    "        while len(arr)>1:\n",
    "            self.merge_helper(arr)\n",
    "          \n",
    "        print(arr[0])\n",
    "        return arr[0]"
   ]
  },
  {
   "cell_type": "code",
   "execution_count": 2,
   "metadata": {},
   "outputs": [
    {
     "name": "stdout",
     "output_type": "stream",
     "text": [
      "[-20, -9, 1, 2, 4, 6, 8, 9, 10]\n"
     ]
    }
   ],
   "source": [
    "arr = [2,6,4,9,8,1,10, -9, -20]        \n",
    "ms = Merge_Sort(arr)"
   ]
  }
 ],
 "metadata": {
  "kernelspec": {
   "display_name": "Python 3",
   "language": "python",
   "name": "python3"
  },
  "language_info": {
   "codemirror_mode": {
    "name": "ipython",
    "version": 3
   },
   "file_extension": ".py",
   "mimetype": "text/x-python",
   "name": "python",
   "nbconvert_exporter": "python",
   "pygments_lexer": "ipython3",
   "version": "3.6.1"
  }
 },
 "nbformat": 4,
 "nbformat_minor": 2
}
