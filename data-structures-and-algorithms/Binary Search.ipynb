{
 "cells": [
  {
   "cell_type": "code",
   "execution_count": 1,
   "metadata": {
    "collapsed": true
   },
   "outputs": [],
   "source": [
    "def binary_search(arr, x):\n",
    "    \"\"\"x is the search term\n",
    "    \"\"\"\n",
    "    \n",
    "    low = 0\n",
    "    high = len(arr) -1\n",
    "    mid = None\n",
    "    \n",
    "    while(low <= high):\n",
    "        mid = (low+high) // 2  # integer division to return the floor\n",
    "        \n",
    "        if(arr[mid]<x):\n",
    "            low = mid + 1\n",
    "        elif(arr[mid]>x):\n",
    "            high = mid - 1\n",
    "        else:\n",
    "            return str(x) + \" found at index \" + str(mid) + \".\"\n",
    "        \n",
    "    return \"Number not found.\""
   ]
  },
  {
   "cell_type": "code",
   "execution_count": 2,
   "metadata": {},
   "outputs": [
    {
     "data": {
      "text/plain": [
       "'9 found at index 4.'"
      ]
     },
     "execution_count": 2,
     "metadata": {},
     "output_type": "execute_result"
    }
   ],
   "source": [
    "binary_search([1, 3, 6, 7, 9], 9)"
   ]
  },
  {
   "cell_type": "code",
   "execution_count": 3,
   "metadata": {},
   "outputs": [
    {
     "data": {
      "text/plain": [
       "'Number not found.'"
      ]
     },
     "execution_count": 3,
     "metadata": {},
     "output_type": "execute_result"
    }
   ],
   "source": [
    "binary_search([1, 3, 6, 7, 9], 30)"
   ]
  }
 ],
 "metadata": {
  "kernelspec": {
   "display_name": "Python 3",
   "language": "python",
   "name": "python3"
  },
  "language_info": {
   "codemirror_mode": {
    "name": "ipython",
    "version": 3
   },
   "file_extension": ".py",
   "mimetype": "text/x-python",
   "name": "python",
   "nbconvert_exporter": "python",
   "pygments_lexer": "ipython3",
   "version": "3.6.1"
  }
 },
 "nbformat": 4,
 "nbformat_minor": 2
}
