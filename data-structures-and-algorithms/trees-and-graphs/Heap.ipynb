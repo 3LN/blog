{
 "cells": [
  {
   "cell_type": "code",
   "execution_count": 1,
   "metadata": {},
   "outputs": [],
   "source": [
    "class max_heap(object):\n",
    "    \n",
    "    def __init__(self, arr):\n",
    "        self.arr = arr\n",
    "        arr.insert(0, None)\n",
    "    \n",
    "    def peek(self):\n",
    "        return self.arr[1]\n",
    "    \n",
    "    def insert(self, x):\n",
    "        self.arr.append(x)\n",
    "        self.heapify_up()\n",
    "    \n",
    "    def extract(self):\n",
    "        self.arr[1], self.arr[len(self.arr)-1] = self.arr[len(self.arr)-1], self.arr[1]\n",
    "        pop = self.arr.pop()\n",
    "        \n",
    "        self.heapify_down()\n",
    "        \n",
    "        return pop\n",
    "\n",
    "    \n",
    "    def heapify_up(self):\n",
    "        child_index = len(self.arr)-1\n",
    "        parent_index = child_index//2\n",
    "        \n",
    "        while self.arr[parent_index] < self.arr[child_index]:\n",
    "            self.arr[child_index], self.arr[parent_index] = self.arr[parent_index], self.arr[child_index]\n",
    "            child_index = parent_index\n",
    "            parent_index = child_index//2\n",
    "        \n",
    "    def heapify_down(self):\n",
    "        parent_index = 1\n",
    "        left_child_index = parent_index*2\n",
    "        right_child_index = parent_index*2 + 1\n",
    "        \n",
    "        \n",
    "        while len(self.arr)> left_child_index:\n",
    "\n",
    "            greater_index = 0\n",
    "            \n",
    "            if len(self.arr)> right_child_index:\n",
    "                \n",
    "                if self.arr[left_child_index] > self.arr[right_child_index]: \n",
    "                    greater_index = left_child_index\n",
    "                else:\n",
    "                    greater_index = right_child_index\n",
    "                    \n",
    "            else:\n",
    "                greater_index = left_child_index\n",
    "                        \n",
    "            if self.arr[parent_index]< self.arr[greater_index]: \n",
    "                self.arr[parent_index], self.arr[greater_index] = self.arr[greater_index], self.arr[parent_index]\n",
    "            \n",
    "                parent_index = greater_index\n",
    "                left_child_index = parent_index*2\n",
    "                right_child_index = parent_index*2 + 1\n",
    "                \n",
    "            else: break\n",
    "\n",
    "            \n",
    "    def show_heap(self):\n",
    "        return self.arr[1:]"
   ]
  },
  {
   "cell_type": "code",
   "execution_count": 2,
   "metadata": {},
   "outputs": [],
   "source": [
    "heap = max_heap([25, 16, 20, 5, 6, 2])"
   ]
  },
  {
   "cell_type": "code",
   "execution_count": 3,
   "metadata": {},
   "outputs": [
    {
     "data": {
      "text/plain": [
       "25"
      ]
     },
     "execution_count": 3,
     "metadata": {},
     "output_type": "execute_result"
    }
   ],
   "source": [
    "heap.peek()"
   ]
  },
  {
   "cell_type": "code",
   "execution_count": 4,
   "metadata": {},
   "outputs": [
    {
     "data": {
      "text/plain": [
       "[25, 16, 20, 5, 6, 2]"
      ]
     },
     "execution_count": 4,
     "metadata": {},
     "output_type": "execute_result"
    }
   ],
   "source": [
    "heap.show_heap()"
   ]
  },
  {
   "cell_type": "code",
   "execution_count": 5,
   "metadata": {},
   "outputs": [],
   "source": [
    "heap.insert(21)"
   ]
  },
  {
   "cell_type": "code",
   "execution_count": 6,
   "metadata": {},
   "outputs": [
    {
     "data": {
      "text/plain": [
       "[25, 16, 21, 5, 6, 2, 20]"
      ]
     },
     "execution_count": 6,
     "metadata": {},
     "output_type": "execute_result"
    }
   ],
   "source": [
    "heap.show_heap()"
   ]
  },
  {
   "cell_type": "code",
   "execution_count": 7,
   "metadata": {
    "scrolled": true
   },
   "outputs": [
    {
     "data": {
      "text/plain": [
       "25"
      ]
     },
     "execution_count": 7,
     "metadata": {},
     "output_type": "execute_result"
    }
   ],
   "source": [
    "heap.extract()"
   ]
  },
  {
   "cell_type": "code",
   "execution_count": 8,
   "metadata": {},
   "outputs": [
    {
     "data": {
      "text/plain": [
       "[21, 16, 20, 5, 6, 2]"
      ]
     },
     "execution_count": 8,
     "metadata": {},
     "output_type": "execute_result"
    }
   ],
   "source": [
    "heap.show_heap()"
   ]
  }
 ],
 "metadata": {
  "kernelspec": {
   "display_name": "Python 3",
   "language": "python",
   "name": "python3"
  },
  "language_info": {
   "codemirror_mode": {
    "name": "ipython",
    "version": 3
   },
   "file_extension": ".py",
   "mimetype": "text/x-python",
   "name": "python",
   "nbconvert_exporter": "python",
   "pygments_lexer": "ipython3",
   "version": "3.6.1"
  }
 },
 "nbformat": 4,
 "nbformat_minor": 2
}
