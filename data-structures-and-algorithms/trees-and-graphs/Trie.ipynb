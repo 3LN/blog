{
 "cells": [
  {
   "cell_type": "code",
   "execution_count": 1,
   "metadata": {
    "collapsed": true
   },
   "outputs": [],
   "source": [
    "class Trie(object):\n",
    "    \n",
    "    def __init__(self):\n",
    "        self.root = self.Node(None)\n",
    "        \n",
    "    class Node(object):\n",
    "        def __init__(self, char):\n",
    "            self.char = char\n",
    "            self.child_nodes = {} \n",
    "            self.complete = False\n",
    "                   \n",
    "    def add_word(self, word):\n",
    "        \n",
    "        current = self.root\n",
    "        \n",
    "        for i,char in enumerate(word):\n",
    "            \n",
    "            if char in current.child_nodes:\n",
    "                current = current.child_nodes[char]                \n",
    "            else:  \n",
    "                new_node = self.Node(char)\n",
    "                current.child_nodes[char] = new_node\n",
    "                \n",
    "                if i == len(word)-1:\n",
    "                    new_node.complete = True\n",
    "\n",
    "                current = current.child_nodes[char]\n",
    "        \n",
    "    def check_for_prefix(self, prefix):\n",
    "        \n",
    "        current = self.root\n",
    "        \n",
    "        for char in prefix:\n",
    "            if char in current.child_nodes:\n",
    "                current = current.child_nodes[char]\n",
    "            else: return False\n",
    "        return True\n",
    "    \n",
    "    def check_for_word(self, word):\n",
    "        \n",
    "        current = self.root\n",
    "        \n",
    "        for char in word:\n",
    "            if char in current.child_nodes:\n",
    "                current = current.child_nodes[char]\n",
    "            else: return False\n",
    "        \n",
    "        return current.complete"
   ]
  },
  {
   "cell_type": "code",
   "execution_count": 2,
   "metadata": {
    "collapsed": true
   },
   "outputs": [],
   "source": [
    "t = Trie()"
   ]
  },
  {
   "cell_type": "code",
   "execution_count": 3,
   "metadata": {
    "collapsed": true
   },
   "outputs": [],
   "source": [
    "t.add_word(\"car\")"
   ]
  },
  {
   "cell_type": "code",
   "execution_count": 4,
   "metadata": {},
   "outputs": [
    {
     "data": {
      "text/plain": [
       "True"
      ]
     },
     "execution_count": 4,
     "metadata": {},
     "output_type": "execute_result"
    }
   ],
   "source": [
    "t.check_for_word(\"car\")"
   ]
  },
  {
   "cell_type": "code",
   "execution_count": 5,
   "metadata": {},
   "outputs": [
    {
     "data": {
      "text/plain": [
       "False"
      ]
     },
     "execution_count": 5,
     "metadata": {},
     "output_type": "execute_result"
    }
   ],
   "source": [
    "t.check_for_word(\"ca\")"
   ]
  },
  {
   "cell_type": "code",
   "execution_count": 6,
   "metadata": {},
   "outputs": [
    {
     "data": {
      "text/plain": [
       "True"
      ]
     },
     "execution_count": 6,
     "metadata": {},
     "output_type": "execute_result"
    }
   ],
   "source": [
    "t.check_for_prefix(\"car\")"
   ]
  },
  {
   "cell_type": "code",
   "execution_count": 7,
   "metadata": {
    "collapsed": true
   },
   "outputs": [],
   "source": [
    "t.add_word(\"card\")"
   ]
  },
  {
   "cell_type": "code",
   "execution_count": 8,
   "metadata": {},
   "outputs": [
    {
     "data": {
      "text/plain": [
       "True"
      ]
     },
     "execution_count": 8,
     "metadata": {},
     "output_type": "execute_result"
    }
   ],
   "source": [
    "t.check_for_word(\"card\")"
   ]
  },
  {
   "cell_type": "code",
   "execution_count": 9,
   "metadata": {},
   "outputs": [
    {
     "data": {
      "text/plain": [
       "True"
      ]
     },
     "execution_count": 9,
     "metadata": {},
     "output_type": "execute_result"
    }
   ],
   "source": [
    "t.check_for_prefix(\"card\")"
   ]
  },
  {
   "cell_type": "code",
   "execution_count": 10,
   "metadata": {
    "collapsed": true
   },
   "outputs": [],
   "source": [
    "t.add_word(\"cards\")"
   ]
  },
  {
   "cell_type": "code",
   "execution_count": 11,
   "metadata": {},
   "outputs": [
    {
     "data": {
      "text/plain": [
       "True"
      ]
     },
     "execution_count": 11,
     "metadata": {},
     "output_type": "execute_result"
    }
   ],
   "source": [
    "t.check_for_word(\"cards\")"
   ]
  },
  {
   "cell_type": "code",
   "execution_count": 12,
   "metadata": {},
   "outputs": [
    {
     "data": {
      "text/plain": [
       "True"
      ]
     },
     "execution_count": 12,
     "metadata": {},
     "output_type": "execute_result"
    }
   ],
   "source": [
    "t.check_for_prefix(\"cards\")"
   ]
  }
 ],
 "metadata": {
  "kernelspec": {
   "display_name": "Python 3",
   "language": "python",
   "name": "python3"
  },
  "language_info": {
   "codemirror_mode": {
    "name": "ipython",
    "version": 3
   },
   "file_extension": ".py",
   "mimetype": "text/x-python",
   "name": "python",
   "nbconvert_exporter": "python",
   "pygments_lexer": "ipython3",
   "version": "3.6.1"
  }
 },
 "nbformat": 4,
 "nbformat_minor": 2
}
