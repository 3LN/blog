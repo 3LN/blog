{
 "cells": [
  {
   "cell_type": "code",
   "execution_count": 44,
   "metadata": {},
   "outputs": [],
   "source": [
    "import queue\n",
    "\n",
    "class Graph(object):\n",
    "    def __init__(self):\n",
    "        self.node_map = {}\n",
    "        \n",
    "    class Node(object):\n",
    "        def __init__(self, id):\n",
    "            self.id = id\n",
    "            self.adj_list = [] # contains nodes \n",
    "    \n",
    "    def add_node(self, id):\n",
    "        node = self.Node(id)\n",
    "        self.node_map[id] = node\n",
    "        \n",
    "    def get_node(self, id):\n",
    "        return self.node_map[id]\n",
    "        \n",
    "    def add_edge(self, src, dest):\n",
    "        src = self.get_node(src)\n",
    "        dest = self.get_node(dest)\n",
    "        \n",
    "        src.adj_list.append(dest)\n",
    "        \n",
    "    def print_adj_lists(self):\n",
    "        for k,node in self.node_map.items():\n",
    "            print(k, end=\": \")\n",
    "            # the adj_list has nodes\n",
    "            [print(node_.id, end=\" \") for node_ in node.adj_list]\n",
    "            print(\" \")\n",
    "            \n",
    "    def bfs(self, src, dest):\n",
    "        to_visit = queue.Queue()\n",
    "        visited = set()\n",
    "        \n",
    "        src = self.get_node(src)\n",
    "        to_visit.put(src)\n",
    "        \n",
    "        while not to_visit.empty():\n",
    "            pop = to_visit.get()\n",
    "            \n",
    "            if pop.id == dest: return True\n",
    "            visited.add(pop.id)            \n",
    "            \n",
    "            for node in pop.adj_list:\n",
    "                if node.id not in visited:\n",
    "                    to_visit.put(node)\n",
    "        \n",
    "        return False\n",
    "            \n",
    "        \n",
    "    def dfs(self, src, dest):\n",
    "        visited = set()\n",
    "        return self.dfs_rec(src, dest, visited)\n",
    "    \n",
    "    def dfs_rec(self, src, dest, visited):\n",
    "        if src in visited: return False\n",
    "        visited.add(src)\n",
    "        if src == dest: return True\n",
    "        \n",
    "        src_node = self.get_node(src)\n",
    "        \n",
    "        for node in src_node.adj_list:\n",
    "            if self.dfs_rec(node.id, dest, visited): return True\n",
    "            \n",
    "        return False   "
   ]
  },
  {
   "cell_type": "code",
   "execution_count": 45,
   "metadata": {
    "collapsed": true
   },
   "outputs": [],
   "source": [
    "g = Graph()"
   ]
  },
  {
   "cell_type": "code",
   "execution_count": 46,
   "metadata": {},
   "outputs": [],
   "source": [
    "g.add_node(0)\n",
    "g.add_node(1)\n",
    "g.add_node(2)\n",
    "g.add_node(3)\n",
    "g.add_node(4)\n",
    "g.add_node(5)\n",
    "g.add_node(6)"
   ]
  },
  {
   "cell_type": "code",
   "execution_count": 47,
   "metadata": {
    "collapsed": true
   },
   "outputs": [],
   "source": [
    "g.add_edge(0,1)\n",
    "g.add_edge(0,2)\n",
    "g.add_edge(1,3)\n",
    "g.add_edge(1,4)\n",
    "g.add_edge(2,5)\n",
    "g.add_edge(2,6)"
   ]
  },
  {
   "cell_type": "code",
   "execution_count": 48,
   "metadata": {},
   "outputs": [
    {
     "name": "stdout",
     "output_type": "stream",
     "text": [
      "0: 1 2  \n",
      "1: 3 4  \n",
      "2: 5 6  \n",
      "3:  \n",
      "4:  \n",
      "5:  \n",
      "6:  \n"
     ]
    }
   ],
   "source": [
    "g.print_adj_lists()"
   ]
  },
  {
   "cell_type": "code",
   "execution_count": 49,
   "metadata": {},
   "outputs": [
    {
     "data": {
      "text/plain": [
       "True"
      ]
     },
     "execution_count": 49,
     "metadata": {},
     "output_type": "execute_result"
    }
   ],
   "source": [
    "g.bfs(0,6)"
   ]
  },
  {
   "cell_type": "code",
   "execution_count": 50,
   "metadata": {},
   "outputs": [
    {
     "data": {
      "text/plain": [
       "True"
      ]
     },
     "execution_count": 50,
     "metadata": {},
     "output_type": "execute_result"
    }
   ],
   "source": [
    "g.bfs(0,3)"
   ]
  },
  {
   "cell_type": "code",
   "execution_count": 51,
   "metadata": {},
   "outputs": [
    {
     "data": {
      "text/plain": [
       "False"
      ]
     },
     "execution_count": 51,
     "metadata": {},
     "output_type": "execute_result"
    }
   ],
   "source": [
    "g.bfs(2,3)"
   ]
  },
  {
   "cell_type": "code",
   "execution_count": 52,
   "metadata": {},
   "outputs": [
    {
     "data": {
      "text/plain": [
       "True"
      ]
     },
     "execution_count": 52,
     "metadata": {},
     "output_type": "execute_result"
    }
   ],
   "source": [
    "g.dfs(0,6)"
   ]
  },
  {
   "cell_type": "code",
   "execution_count": 53,
   "metadata": {},
   "outputs": [
    {
     "data": {
      "text/plain": [
       "True"
      ]
     },
     "execution_count": 53,
     "metadata": {},
     "output_type": "execute_result"
    }
   ],
   "source": [
    "g.dfs(0,3)"
   ]
  },
  {
   "cell_type": "code",
   "execution_count": 54,
   "metadata": {},
   "outputs": [
    {
     "data": {
      "text/plain": [
       "False"
      ]
     },
     "execution_count": 54,
     "metadata": {},
     "output_type": "execute_result"
    }
   ],
   "source": [
    "g.dfs(2,3)"
   ]
  }
 ],
 "metadata": {
  "kernelspec": {
   "display_name": "Python 3",
   "language": "python",
   "name": "python3"
  },
  "language_info": {
   "codemirror_mode": {
    "name": "ipython",
    "version": 3
   },
   "file_extension": ".py",
   "mimetype": "text/x-python",
   "name": "python",
   "nbconvert_exporter": "python",
   "pygments_lexer": "ipython3",
   "version": "3.6.1"
  }
 },
 "nbformat": 4,
 "nbformat_minor": 2
}
