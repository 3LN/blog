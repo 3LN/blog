{
 "cells": [
  {
   "cell_type": "code",
   "execution_count": 1,
   "metadata": {
    "collapsed": true
   },
   "outputs": [],
   "source": [
    "def get_digit(number, n):\n",
    "    return number // 10**n % 10\n",
    "\n",
    "def get_num_length(num):\n",
    "    return len(str(num))\n",
    "\n",
    "def radix_sort(arr):\n",
    "    \n",
    "    if len(arr) == 0 or len(arr) == 1 : return arr\n",
    "    \n",
    "    # a list of 10 lists for each digit 0-9\n",
    "    sorted_list = [[], [], [], [], [], [], [], [], [], []]\n",
    "    \n",
    "    max_len = get_num_length(arr[0])+1\n",
    "    \n",
    "    for digit in range(0,max_len):\n",
    "        \n",
    "        for num in arr:\n",
    "            \n",
    "            # update max length\n",
    "            if digit == 0:\n",
    "                # get the length of that digit\n",
    "                if get_num_length(num)+1 > max_len+1:\n",
    "                    max_len = get_num_length(num)+1\n",
    "                \n",
    "            #print(get_digit(num, 0))\n",
    "            sorted_list[get_digit(num, digit)].append(num)\n",
    "\n",
    "        # update arr and clear out sorted_list\n",
    "        arr.clear()\n",
    "        \n",
    "        for list_ in sorted_list:\n",
    "            if not len(list_) == 0:\n",
    "                for num in list_:\n",
    "                    arr.append(num)\n",
    "        print(arr)\n",
    "        #print(sorted_list)\n",
    "        \n",
    "        sorted_list = [[], [], [], [], [], [], [], [], [], []]"
   ]
  },
  {
   "cell_type": "code",
   "execution_count": 2,
   "metadata": {},
   "outputs": [
    {
     "name": "stdout",
     "output_type": "stream",
     "text": [
      "[240, 430, 421, 532, 124, 35, 305]\n",
      "[305, 421, 124, 430, 532, 35, 240]\n",
      "[35, 124, 240, 305, 421, 430, 532]\n",
      "[35, 124, 240, 305, 421, 430, 532]\n"
     ]
    }
   ],
   "source": [
    "arr = [421, 240, 35, 532, 305, 430, 124]\n",
    "radix_sort(arr)"
   ]
  }
 ],
 "metadata": {
  "kernelspec": {
   "display_name": "Python 3",
   "language": "python",
   "name": "python3"
  },
  "language_info": {
   "codemirror_mode": {
    "name": "ipython",
    "version": 3
   },
   "file_extension": ".py",
   "mimetype": "text/x-python",
   "name": "python",
   "nbconvert_exporter": "python",
   "pygments_lexer": "ipython3",
   "version": "3.6.1"
  }
 },
 "nbformat": 4,
 "nbformat_minor": 2
}
